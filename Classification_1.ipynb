{
 "cells": [
  {
   "cell_type": "code",
   "execution_count": 2,
   "id": "8dd36619",
   "metadata": {},
   "outputs": [
    {
     "data": {
      "text/plain": [
       "'/home/ec2-user/SageMaker/yujin'"
      ]
     },
     "execution_count": 2,
     "metadata": {},
     "output_type": "execute_result"
    }
   ],
   "source": [
    "pwd"
   ]
  },
  {
   "cell_type": "code",
   "execution_count": 3,
   "id": "c72e2099",
   "metadata": {},
   "outputs": [
    {
     "name": "stdout",
     "output_type": "stream",
     "text": [
      "Requirement already satisfied: pillow in /home/ec2-user/anaconda3/envs/pytorch_p310/lib/python3.10/site-packages (11.0.0)\n",
      "Requirement already satisfied: torchvision in /home/ec2-user/anaconda3/envs/pytorch_p310/lib/python3.10/site-packages (0.17.2)\n",
      "Requirement already satisfied: boto3 in /home/ec2-user/anaconda3/envs/pytorch_p310/lib/python3.10/site-packages (1.35.54)\n",
      "Requirement already satisfied: pandas in /home/ec2-user/anaconda3/envs/pytorch_p310/lib/python3.10/site-packages (1.5.3)\n",
      "Requirement already satisfied: numpy in /home/ec2-user/anaconda3/envs/pytorch_p310/lib/python3.10/site-packages (from torchvision) (1.26.4)\n",
      "Requirement already satisfied: torch in /home/ec2-user/anaconda3/envs/pytorch_p310/lib/python3.10/site-packages (from torchvision) (2.2.2)\n",
      "Requirement already satisfied: botocore<1.36.0,>=1.35.54 in /home/ec2-user/anaconda3/envs/pytorch_p310/lib/python3.10/site-packages (from boto3) (1.35.54)\n",
      "Requirement already satisfied: jmespath<2.0.0,>=0.7.1 in /home/ec2-user/anaconda3/envs/pytorch_p310/lib/python3.10/site-packages (from boto3) (1.0.1)\n",
      "Requirement already satisfied: s3transfer<0.11.0,>=0.10.0 in /home/ec2-user/anaconda3/envs/pytorch_p310/lib/python3.10/site-packages (from boto3) (0.10.3)\n",
      "Requirement already satisfied: python-dateutil>=2.8.1 in /home/ec2-user/anaconda3/envs/pytorch_p310/lib/python3.10/site-packages (from pandas) (2.9.0)\n",
      "Requirement already satisfied: pytz>=2020.1 in /home/ec2-user/anaconda3/envs/pytorch_p310/lib/python3.10/site-packages (from pandas) (2024.1)\n",
      "Requirement already satisfied: urllib3!=2.2.0,<3,>=1.25.4 in /home/ec2-user/anaconda3/envs/pytorch_p310/lib/python3.10/site-packages (from botocore<1.36.0,>=1.35.54->boto3) (2.2.3)\n",
      "Requirement already satisfied: six>=1.5 in /home/ec2-user/anaconda3/envs/pytorch_p310/lib/python3.10/site-packages (from python-dateutil>=2.8.1->pandas) (1.16.0)\n",
      "Requirement already satisfied: filelock in /home/ec2-user/anaconda3/envs/pytorch_p310/lib/python3.10/site-packages (from torch->torchvision) (3.16.1)\n",
      "Requirement already satisfied: typing-extensions>=4.8.0 in /home/ec2-user/anaconda3/envs/pytorch_p310/lib/python3.10/site-packages (from torch->torchvision) (4.12.2)\n",
      "Requirement already satisfied: sympy in /home/ec2-user/anaconda3/envs/pytorch_p310/lib/python3.10/site-packages (from torch->torchvision) (1.13.3)\n",
      "Requirement already satisfied: networkx in /home/ec2-user/anaconda3/envs/pytorch_p310/lib/python3.10/site-packages (from torch->torchvision) (3.4.2)\n",
      "Requirement already satisfied: jinja2 in /home/ec2-user/anaconda3/envs/pytorch_p310/lib/python3.10/site-packages (from torch->torchvision) (3.1.4)\n",
      "Requirement already satisfied: fsspec in /home/ec2-user/anaconda3/envs/pytorch_p310/lib/python3.10/site-packages (from torch->torchvision) (2024.10.0)\n",
      "Requirement already satisfied: MarkupSafe>=2.0 in /home/ec2-user/anaconda3/envs/pytorch_p310/lib/python3.10/site-packages (from jinja2->torch->torchvision) (3.0.2)\n",
      "Requirement already satisfied: mpmath<1.4,>=1.1.0 in /home/ec2-user/anaconda3/envs/pytorch_p310/lib/python3.10/site-packages (from sympy->torch->torchvision) (1.3.0)\n"
     ]
    }
   ],
   "source": [
    "!pip install pillow torchvision boto3 pandas"
   ]
  },
  {
   "cell_type": "code",
   "execution_count": 10,
   "id": "215ed649",
   "metadata": {},
   "outputs": [],
   "source": [
    "import pandas as pd\n",
    "import boto3\n",
    "import os"
   ]
  },
  {
   "cell_type": "code",
   "execution_count": 11,
   "id": "8e0c1e51",
   "metadata": {},
   "outputs": [
    {
     "name": "stdout",
     "output_type": "stream",
     "text": [
      "CSV 데이터 확인:\n",
      "    image_name  class_index class_label\n",
      "0        1058            1        edge\n",
      "1        1083            1        edge\n",
      "2        1122            1        edge\n",
      "3         115            3      bubble\n",
      "4        1195            1        edge\n"
     ]
    }
   ],
   "source": [
    "# SageMaker 노트북에 저장된 CSV 파일 경로\n",
    "csv_path = '/home/ec2-user/SageMaker/NG_class.CSV'\n",
    "bucket_name = \"smwu-cv-data\"  # S3 버킷 이름\n",
    "input_folder = '/home/ec2-user/data/NG/'   # SageMaker 노트북 내 원본 이미지 폴더\n",
    "output_folder = '/home/ec2-user/yujin/labeled_images_NG/'  # 라벨링된 결과 저장 폴더\n",
    "\n",
    "# 폴더가 없으면 생성\n",
    "os.makedirs(output_folder, exist_ok=True)\n",
    "\n",
    "ng_data = pd.read_csv(csv_path)\n",
    "ng_data.columns = ['image_name', 'class_index']  # CSV 파일에서 열 이름 설정\n",
    "label_mapping = {\n",
    "    0: 'damage',       # 두부 전반적인 위치의 표면 손상\n",
    "    1: 'edge',         # 가장자리 손상\n",
    "    2: 'contaminant',  # 작은 검은 반점\n",
    "    3: 'bubble'        # 기포\n",
    "}\n",
    "ng_data['class_label'] = ng_data['class_index'].map(label_mapping)\n",
    "print(\"CSV 데이터 확인:\\n\", ng_data.head())"
   ]
  },
  {
   "cell_type": "code",
   "execution_count": 12,
   "id": "175a990b",
   "metadata": {},
   "outputs": [
    {
     "name": "stdout",
     "output_type": "stream",
     "text": [
      "파일 없음: /home/ec2-user/data/NG/1058.jpg\n",
      "파일 없음: /home/ec2-user/data/NG/1083.jpg\n",
      "파일 없음: /home/ec2-user/data/NG/1122.jpg\n",
      "파일 없음: /home/ec2-user/data/NG/115.jpg\n",
      "파일 없음: /home/ec2-user/data/NG/1195.jpg\n",
      "파일 없음: /home/ec2-user/data/NG/1196.jpg\n",
      "파일 없음: /home/ec2-user/data/NG/1243.jpg\n",
      "파일 없음: /home/ec2-user/data/NG/1268.jpg\n",
      "파일 없음: /home/ec2-user/data/NG/1299.jpg\n",
      "파일 없음: /home/ec2-user/data/NG/1403.jpg\n",
      "파일 없음: /home/ec2-user/data/NG/1483.jpg\n",
      "파일 없음: /home/ec2-user/data/NG/1578.jpg\n",
      "파일 없음: /home/ec2-user/data/NG/1579.jpg\n",
      "파일 없음: /home/ec2-user/data/NG/1707.jpg\n",
      "파일 없음: /home/ec2-user/data/NG/1755.jpg\n",
      "파일 없음: /home/ec2-user/data/NG/1804.jpg\n",
      "파일 없음: /home/ec2-user/data/NG/1811.jpg\n",
      "파일 없음: /home/ec2-user/data/NG/1859.jpg\n",
      "파일 없음: /home/ec2-user/data/NG/1866.jpg\n",
      "파일 없음: /home/ec2-user/data/NG/1867.jpg\n",
      "파일 없음: /home/ec2-user/data/NG/1923.jpg\n",
      "파일 없음: /home/ec2-user/data/NG/1932.jpg\n",
      "파일 없음: /home/ec2-user/data/NG/1940.jpg\n",
      "파일 없음: /home/ec2-user/data/NG/2027.jpg\n",
      "파일 없음: /home/ec2-user/data/NG/2122.jpg\n",
      "파일 없음: /home/ec2-user/data/NG/2147.jpg\n",
      "파일 없음: /home/ec2-user/data/NG/2171.jpg\n",
      "파일 없음: /home/ec2-user/data/NG/2202.jpg\n",
      "파일 없음: /home/ec2-user/data/NG/2235.jpg\n",
      "파일 없음: /home/ec2-user/data/NG/2266.jpg\n",
      "파일 없음: /home/ec2-user/data/NG/2267.jpg\n",
      "파일 없음: /home/ec2-user/data/NG/2291.jpg\n",
      "파일 없음: /home/ec2-user/data/NG/2298.jpg\n",
      "파일 없음: /home/ec2-user/data/NG/2347.jpg\n",
      "파일 없음: /home/ec2-user/data/NG/2370.jpg\n",
      "파일 없음: /home/ec2-user/data/NG/2371.jpg\n",
      "파일 없음: /home/ec2-user/data/NG/2378.jpg\n",
      "파일 없음: /home/ec2-user/data/NG/2458.jpg\n",
      "파일 없음: /home/ec2-user/data/NG/2499.jpg\n",
      "파일 없음: /home/ec2-user/data/NG/2555.jpg\n",
      "파일 없음: /home/ec2-user/data/NG/2586.jpg\n",
      "파일 없음: /home/ec2-user/data/NG/2610.jpg\n",
      "파일 없음: /home/ec2-user/data/NG/2627.jpg\n",
      "파일 없음: /home/ec2-user/data/NG/2642.jpg\n",
      "파일 없음: /home/ec2-user/data/NG/2659.jpg\n",
      "파일 없음: /home/ec2-user/data/NG/2667.jpg\n",
      "파일 없음: /home/ec2-user/data/NG/2675.jpg\n",
      "파일 없음: /home/ec2-user/data/NG/275.jpg\n",
      "파일 없음: /home/ec2-user/data/NG/3100.jpg\n",
      "파일 없음: /home/ec2-user/data/NG/3108.jpg\n",
      "파일 없음: /home/ec2-user/data/NG/3132.jpg\n",
      "파일 없음: /home/ec2-user/data/NG/3178.jpg\n",
      "파일 없음: /home/ec2-user/data/NG/3187.jpg\n",
      "파일 없음: /home/ec2-user/data/NG/3220.jpg\n",
      "파일 없음: /home/ec2-user/data/NG/338.jpg\n",
      "파일 없음: /home/ec2-user/data/NG/3501.jpg\n",
      "파일 없음: /home/ec2-user/data/NG/3508.jpg\n",
      "파일 없음: /home/ec2-user/data/NG/3676.jpg\n",
      "파일 없음: /home/ec2-user/data/NG/3707.jpg\n",
      "파일 없음: /home/ec2-user/data/NG/3828.jpg\n",
      "파일 없음: /home/ec2-user/data/NG/3900.jpg\n",
      "파일 없음: /home/ec2-user/data/NG/3940.jpg\n",
      "파일 없음: /home/ec2-user/data/NG/4306.jpg\n",
      "파일 없음: /home/ec2-user/data/NG/4319.jpg\n",
      "파일 없음: /home/ec2-user/data/NG/4320.jpg\n",
      "파일 없음: /home/ec2-user/data/NG/4321.jpg\n",
      "파일 없음: /home/ec2-user/data/NG/4322.jpg\n",
      "파일 없음: /home/ec2-user/data/NG/4327.jpg\n",
      "파일 없음: /home/ec2-user/data/NG/4328.jpg\n",
      "파일 없음: /home/ec2-user/data/NG/4329.jpg\n",
      "파일 없음: /home/ec2-user/data/NG/4330.jpg\n",
      "파일 없음: /home/ec2-user/data/NG/4331.jpg\n",
      "파일 없음: /home/ec2-user/data/NG/4332.jpg\n",
      "파일 없음: /home/ec2-user/data/NG/4335.jpg\n",
      "파일 없음: /home/ec2-user/data/NG/4336.jpg\n",
      "파일 없음: /home/ec2-user/data/NG/4337.jpg\n",
      "파일 없음: /home/ec2-user/data/NG/4338.jpg\n",
      "파일 없음: /home/ec2-user/data/NG/4339.jpg\n",
      "파일 없음: /home/ec2-user/data/NG/4340.jpg\n",
      "파일 없음: /home/ec2-user/data/NG/4341.jpg\n",
      "파일 없음: /home/ec2-user/data/NG/4342.jpg\n",
      "파일 없음: /home/ec2-user/data/NG/4343.jpg\n",
      "파일 없음: /home/ec2-user/data/NG/4344.jpg\n",
      "파일 없음: /home/ec2-user/data/NG/4345.jpg\n",
      "파일 없음: /home/ec2-user/data/NG/4346.jpg\n",
      "파일 없음: /home/ec2-user/data/NG/4347.jpg\n",
      "파일 없음: /home/ec2-user/data/NG/4348.jpg\n",
      "파일 없음: /home/ec2-user/data/NG/4349.jpg\n",
      "파일 없음: /home/ec2-user/data/NG/4350.jpg\n",
      "파일 없음: /home/ec2-user/data/NG/4351.jpg\n",
      "파일 없음: /home/ec2-user/data/NG/4352.jpg\n",
      "파일 없음: /home/ec2-user/data/NG/4353.jpg\n",
      "파일 없음: /home/ec2-user/data/NG/4354.jpg\n",
      "파일 없음: /home/ec2-user/data/NG/4355.jpg\n",
      "파일 없음: /home/ec2-user/data/NG/4356.jpg\n",
      "파일 없음: /home/ec2-user/data/NG/4357.jpg\n",
      "파일 없음: /home/ec2-user/data/NG/4358.jpg\n",
      "파일 없음: /home/ec2-user/data/NG/4359.jpg\n",
      "파일 없음: /home/ec2-user/data/NG/4360.jpg\n",
      "파일 없음: /home/ec2-user/data/NG/4361.jpg\n",
      "파일 없음: /home/ec2-user/data/NG/4362.jpg\n",
      "파일 없음: /home/ec2-user/data/NG/4363.jpg\n",
      "파일 없음: /home/ec2-user/data/NG/4364.jpg\n",
      "파일 없음: /home/ec2-user/data/NG/4365.jpg\n",
      "파일 없음: /home/ec2-user/data/NG/4366.jpg\n",
      "파일 없음: /home/ec2-user/data/NG/4367.jpg\n",
      "파일 없음: /home/ec2-user/data/NG/4368.jpg\n",
      "파일 없음: /home/ec2-user/data/NG/4369.jpg\n",
      "파일 없음: /home/ec2-user/data/NG/4370.jpg\n",
      "파일 없음: /home/ec2-user/data/NG/4371.jpg\n",
      "파일 없음: /home/ec2-user/data/NG/4372.jpg\n",
      "파일 없음: /home/ec2-user/data/NG/4374.jpg\n",
      "파일 없음: /home/ec2-user/data/NG/4375.jpg\n",
      "파일 없음: /home/ec2-user/data/NG/4376.jpg\n",
      "파일 없음: /home/ec2-user/data/NG/4377.jpg\n",
      "파일 없음: /home/ec2-user/data/NG/4378.jpg\n",
      "파일 없음: /home/ec2-user/data/NG/4379.jpg\n",
      "파일 없음: /home/ec2-user/data/NG/4382.jpg\n",
      "파일 없음: /home/ec2-user/data/NG/4383.jpg\n",
      "파일 없음: /home/ec2-user/data/NG/4385.jpg\n",
      "파일 없음: /home/ec2-user/data/NG/4386.jpg\n",
      "파일 없음: /home/ec2-user/data/NG/4439.jpg\n",
      "파일 없음: /home/ec2-user/data/NG/4447.jpg\n",
      "파일 없음: /home/ec2-user/data/NG/4483.jpg\n",
      "파일 없음: /home/ec2-user/data/NG/4491.jpg\n",
      "파일 없음: /home/ec2-user/data/NG/4556.jpg\n",
      "파일 없음: /home/ec2-user/data/NG/4563.jpg\n",
      "파일 없음: /home/ec2-user/data/NG/4571.jpg\n",
      "파일 없음: /home/ec2-user/data/NG/4572.jpg\n",
      "파일 없음: /home/ec2-user/data/NG/4578.jpg\n",
      "파일 없음: /home/ec2-user/data/NG/4579.jpg\n",
      "파일 없음: /home/ec2-user/data/NG/4580.jpg\n",
      "파일 없음: /home/ec2-user/data/NG/4581.jpg\n",
      "파일 없음: /home/ec2-user/data/NG/4582.jpg\n",
      "파일 없음: /home/ec2-user/data/NG/4588.jpg\n",
      "파일 없음: /home/ec2-user/data/NG/4589.jpg\n",
      "파일 없음: /home/ec2-user/data/NG/4590.jpg\n",
      "파일 없음: /home/ec2-user/data/NG/4596.jpg\n",
      "파일 없음: /home/ec2-user/data/NG/4597.jpg\n",
      "파일 없음: /home/ec2-user/data/NG/4604.jpg\n",
      "파일 없음: /home/ec2-user/data/NG/4612.jpg\n",
      "파일 없음: /home/ec2-user/data/NG/4683.jpg\n",
      "파일 없음: /home/ec2-user/data/NG/4748.jpg\n",
      "파일 없음: /home/ec2-user/data/NG/4771.jpg\n",
      "파일 없음: /home/ec2-user/data/NG/4859.jpg\n",
      "파일 없음: /home/ec2-user/data/NG/4875.jpg\n",
      "파일 없음: /home/ec2-user/data/NG/4899.jpg\n",
      "파일 없음: /home/ec2-user/data/NG/4931.jpg\n",
      "파일 없음: /home/ec2-user/data/NG/4939.jpg\n",
      "파일 없음: /home/ec2-user/data/NG/4987.jpg\n",
      "파일 없음: /home/ec2-user/data/NG/643.jpg\n",
      "파일 없음: /home/ec2-user/data/NG/883.jpg\n",
      "파일 없음: /home/ec2-user/data/NG/938.jpg\n",
      "파일 없음: /home/ec2-user/data/NG/971.jpg\n",
      "파일 없음: /home/ec2-user/data/NG/979.jpg\n"
     ]
    }
   ],
   "source": [
    "# 라벨링 결과를 로컬 디렉토리에 저장\n",
    "labeled_data = []\n",
    "for index, row in ng_data.iterrows():\n",
    "    image_name = row['image_name']\n",
    "    class_label = row['class_label']\n",
    "    \n",
    "    # 원본 이미지 경로\n",
    "    input_image_path = os.path.join(input_folder, f\"{image_name}.jpg\")  # 확장자에 맞게 변경\n",
    "    \n",
    "    # 저장 경로 및 라벨링된 이름 추가\n",
    "    output_image_path = os.path.join(output_folder, f\"{image_name}_{class_label}.jpg\")\n",
    "    \n",
    "    if os.path.exists(input_image_path):\n",
    "        os.rename(input_image_path, output_image_path)  # 원본 파일 이동 후 라벨 추가된 이름으로 저장\n",
    "        labeled_data.append({'image_name': image_name, 'class_label': class_label})\n",
    "    else:\n",
    "        print(f\"파일 없음: {input_image_path}\")"
   ]
  },
  {
   "cell_type": "code",
   "execution_count": 13,
   "id": "dd185c5f",
   "metadata": {},
   "outputs": [],
   "source": [
    "# 라벨링 결과를 CSV로 저장\n",
    "output_csv_path = '/home/ec2-user/yujin/NG_labeled_images.csv'\n",
    "labeled_df = pd.DataFrame(labeled_data)\n",
    "labeled_df.to_csv(output_csv_path, index=False)"
   ]
  },
  {
   "cell_type": "code",
   "execution_count": 14,
   "id": "7be31d04",
   "metadata": {},
   "outputs": [
    {
     "name": "stdout",
     "output_type": "stream",
     "text": [
      "라벨링 완료! 라벨링된 이미지와 결과 CSV가 SageMaker 디렉토리에 저장되었습니다.\n",
      "이미지 경로: /home/ec2-user/yujin/labeled_images_NG/\n",
      "CSV 경로: /home/ec2-user/yujin/NG_labeled_images.csv\n"
     ]
    }
   ],
   "source": [
    "print(f\"라벨링 완료! 라벨링된 이미지와 결과 CSV가 SageMaker 디렉토리에 저장되었습니다.\")\n",
    "print(f\"이미지 경로: {output_folder}\")\n",
    "print(f\"CSV 경로: {output_csv_path}\")"
   ]
  },
  {
   "cell_type": "code",
   "execution_count": null,
   "id": "6046eb77",
   "metadata": {},
   "outputs": [],
   "source": []
  },
  {
   "cell_type": "code",
   "execution_count": null,
   "id": "65d39fe0",
   "metadata": {},
   "outputs": [],
   "source": []
  },
  {
   "cell_type": "code",
   "execution_count": null,
   "id": "0fa4536f",
   "metadata": {},
   "outputs": [],
   "source": []
  }
 ],
 "metadata": {
  "kernelspec": {
   "display_name": "conda_pytorch_p310",
   "language": "python",
   "name": "conda_pytorch_p310"
  },
  "language_info": {
   "codemirror_mode": {
    "name": "ipython",
    "version": 3
   },
   "file_extension": ".py",
   "mimetype": "text/x-python",
   "name": "python",
   "nbconvert_exporter": "python",
   "pygments_lexer": "ipython3",
   "version": "3.10.14"
  }
 },
 "nbformat": 4,
 "nbformat_minor": 5
}
