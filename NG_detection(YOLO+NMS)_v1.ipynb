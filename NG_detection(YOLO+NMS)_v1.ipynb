{
 "cells": [
  {
   "cell_type": "code",
   "execution_count": 22,
   "id": "03881476",
   "metadata": {},
   "outputs": [],
   "source": [
    "import torch\n",
    "from ultralytics import YOLO\n",
    "import numpy as np"
   ]
  },
  {
   "cell_type": "code",
   "execution_count": 23,
   "id": "b13c0107",
   "metadata": {},
   "outputs": [],
   "source": [
    "# NMS 함수 정의\n",
    "def apply_nms(predictions, iou_threshold=0.5, score_threshold=0.3):\n",
    "    \"\"\"\n",
    "    Apply Non-Maximum Suppression (NMS) to YOLO predictions.\n",
    "    Args:\n",
    "        predictions: List of [x1, y1, x2, y2, score, class_id] per detection\n",
    "        iou_threshold: IoU threshold for NMS\n",
    "        score_threshold: Score threshold to filter weak detections\n",
    "    Returns:\n",
    "        nms_results: Filtered detections after applying NMS\n",
    "    \"\"\"\n",
    "    if len(predictions) == 0:\n",
    "        return []\n",
    "\n",
    "    predictions = np.array(predictions)\n",
    "    x1, y1, x2, y2, scores, class_ids = (\n",
    "        predictions[:, 0],\n",
    "        predictions[:, 1],\n",
    "        predictions[:, 2],\n",
    "        predictions[:, 3],\n",
    "        predictions[:, 4],\n",
    "        predictions[:, 5],\n",
    "    )\n",
    "\n",
    "    # Sort detections by score\n",
    "    indices = scores.argsort()[::-1]\n",
    "    selected_boxes = []\n",
    "\n",
    "    while len(indices) > 0:\n",
    "        current = indices[0]\n",
    "        selected_boxes.append(predictions[current])\n",
    "\n",
    "        # Calculate IoU with the remaining boxes\n",
    "        xx1 = np.maximum(x1[current], x1[indices[1:]])\n",
    "        yy1 = np.maximum(y1[current], y1[indices[1:]])\n",
    "        xx2 = np.minimum(x2[current], x2[indices[1:]])\n",
    "        yy2 = np.minimum(y2[current], y2[indices[1:]])\n",
    "\n",
    "        inter_area = np.maximum(0, xx2 - xx1) * np.maximum(0, yy2 - yy1)\n",
    "        box_area_current = (x2[current] - x1[current]) * (y2[current] - y1[current])\n",
    "        box_area_indices = (x2[indices[1:]] - x1[indices[1:]]) * (y2[indices[1:]] - y1[indices[1:]])\n",
    "        union_area = box_area_current + box_area_indices - inter_area\n",
    "\n",
    "        iou = inter_area / (union_area + 1e-6)\n",
    "        # Retain boxes with IoU less than the threshold\n",
    "        indices = indices[1:][iou < iou_threshold]\n",
    "\n",
    "    # Convert results to list format and filter by score threshold\n",
    "    nms_results = [box.tolist() for box in selected_boxes if box[4] > score_threshold]\n",
    "    return nms_results"
   ]
  },
  {
   "cell_type": "code",
   "execution_count": 24,
   "id": "8f844764",
   "metadata": {},
   "outputs": [],
   "source": [
    "# YOLOv8 모델 로드\n",
    "model = YOLO('yolov8n.pt')  # Pretrained YOLOv8 모델 사용"
   ]
  },
  {
   "cell_type": "code",
   "execution_count": 25,
   "id": "6bbe88cb",
   "metadata": {},
   "outputs": [],
   "source": [
    "# 데이터셋 경로\n",
    "dataset_yaml = '/home/ec2-user/SageMaker/data/yolov8detections/data.yaml'"
   ]
  },
  {
   "cell_type": "code",
   "execution_count": null,
   "id": "e4ef7f82",
   "metadata": {},
   "outputs": [
    {
     "name": "stdout",
     "output_type": "stream",
     "text": [
      "Ultralytics 8.3.39 🚀 Python-3.10.14 torch-2.2.2 CUDA:0 (Tesla T4, 14918MiB)\n",
      "\u001b[34m\u001b[1mengine/trainer: \u001b[0mtask=detect, mode=train, model=yolov8n.pt, data=/home/ec2-user/SageMaker/data/yolov8detections/data.yaml, epochs=10, time=None, patience=100, batch=16, imgsz=640, save=True, save_period=-1, cache=False, device=None, workers=8, project=None, name=train3, exist_ok=False, pretrained=True, optimizer=auto, verbose=True, seed=0, deterministic=True, single_cls=False, rect=False, cos_lr=False, close_mosaic=10, resume=False, amp=True, fraction=1.0, profile=False, freeze=None, multi_scale=False, overlap_mask=True, mask_ratio=4, dropout=0.0, val=True, split=val, save_json=False, save_hybrid=False, conf=None, iou=0.7, max_det=300, half=False, dnn=False, plots=True, source=None, vid_stride=1, stream_buffer=False, visualize=False, augment=False, agnostic_nms=False, classes=None, retina_masks=False, embed=None, show=False, save_frames=False, save_txt=False, save_conf=False, save_crop=False, show_labels=True, show_conf=True, show_boxes=True, line_width=None, format=torchscript, keras=False, optimize=False, int8=False, dynamic=False, simplify=True, opset=None, workspace=None, nms=False, lr0=0.01, lrf=0.01, momentum=0.937, weight_decay=0.0005, warmup_epochs=3.0, warmup_momentum=0.8, warmup_bias_lr=0.1, box=7.5, cls=0.5, dfl=1.5, pose=12.0, kobj=1.0, nbs=64, hsv_h=0.015, hsv_s=0.7, hsv_v=0.4, degrees=0.0, translate=0.1, scale=0.5, shear=0.0, perspective=0.0, flipud=0.0, fliplr=0.5, bgr=0.0, mosaic=1.0, mixup=0.0, copy_paste=0.0, copy_paste_mode=flip, auto_augment=randaugment, erasing=0.4, crop_fraction=1.0, cfg=None, tracker=botsort.yaml, save_dir=runs/detect/train3\n",
      "Overriding model.yaml nc=80 with nc=4\n",
      "\n",
      "                   from  n    params  module                                       arguments                     \n",
      "  0                  -1  1       464  ultralytics.nn.modules.conv.Conv             [3, 16, 3, 2]                 \n",
      "  1                  -1  1      4672  ultralytics.nn.modules.conv.Conv             [16, 32, 3, 2]                \n",
      "  2                  -1  1      7360  ultralytics.nn.modules.block.C2f             [32, 32, 1, True]             \n",
      "  3                  -1  1     18560  ultralytics.nn.modules.conv.Conv             [32, 64, 3, 2]                \n",
      "  4                  -1  2     49664  ultralytics.nn.modules.block.C2f             [64, 64, 2, True]             \n",
      "  5                  -1  1     73984  ultralytics.nn.modules.conv.Conv             [64, 128, 3, 2]               \n",
      "  6                  -1  2    197632  ultralytics.nn.modules.block.C2f             [128, 128, 2, True]           \n",
      "  7                  -1  1    295424  ultralytics.nn.modules.conv.Conv             [128, 256, 3, 2]              \n",
      "  8                  -1  1    460288  ultralytics.nn.modules.block.C2f             [256, 256, 1, True]           \n",
      "  9                  -1  1    164608  ultralytics.nn.modules.block.SPPF            [256, 256, 5]                 \n",
      " 10                  -1  1         0  torch.nn.modules.upsampling.Upsample         [None, 2, 'nearest']          \n",
      " 11             [-1, 6]  1         0  ultralytics.nn.modules.conv.Concat           [1]                           \n",
      " 12                  -1  1    148224  ultralytics.nn.modules.block.C2f             [384, 128, 1]                 \n",
      " 13                  -1  1         0  torch.nn.modules.upsampling.Upsample         [None, 2, 'nearest']          \n",
      " 14             [-1, 4]  1         0  ultralytics.nn.modules.conv.Concat           [1]                           \n",
      " 15                  -1  1     37248  ultralytics.nn.modules.block.C2f             [192, 64, 1]                  \n",
      " 16                  -1  1     36992  ultralytics.nn.modules.conv.Conv             [64, 64, 3, 2]                \n",
      " 17            [-1, 12]  1         0  ultralytics.nn.modules.conv.Concat           [1]                           \n",
      " 18                  -1  1    123648  ultralytics.nn.modules.block.C2f             [192, 128, 1]                 \n",
      " 19                  -1  1    147712  ultralytics.nn.modules.conv.Conv             [128, 128, 3, 2]              \n",
      " 20             [-1, 9]  1         0  ultralytics.nn.modules.conv.Concat           [1]                           \n",
      " 21                  -1  1    493056  ultralytics.nn.modules.block.C2f             [384, 256, 1]                 \n",
      " 22        [15, 18, 21]  1    752092  ultralytics.nn.modules.head.Detect           [4, [64, 128, 256]]           \n",
      "Model summary: 225 layers, 3,011,628 parameters, 3,011,612 gradients, 8.2 GFLOPs\n",
      "\n",
      "Transferred 319/355 items from pretrained weights\n",
      "Freezing layer 'model.22.dfl.conv.weight'\n",
      "\u001b[34m\u001b[1mAMP: \u001b[0mrunning Automatic Mixed Precision (AMP) checks...\n",
      "\u001b[34m\u001b[1mAMP: \u001b[0mchecks passed ✅\n"
     ]
    },
    {
     "name": "stderr",
     "output_type": "stream",
     "text": [
      "\u001b[34m\u001b[1mtrain: \u001b[0mScanning /home/ec2-user/SageMaker/data/yolov8detections/train/labels.cache... 816 images, 1 backgrounds, 0 corrupt: 100%|██████████| 816/816 [00:00<?, ?it/s]\n",
      "\u001b[34m\u001b[1mval: \u001b[0mScanning /home/ec2-user/SageMaker/data/yolov8detections/valid/labels.cache... 232 images, 0 backgrounds, 0 corrupt: 100%|██████████| 232/232 [00:00<?, ?it/s]\n"
     ]
    },
    {
     "name": "stdout",
     "output_type": "stream",
     "text": [
      "Plotting labels to runs/detect/train3/labels.jpg... \n"
     ]
    }
   ],
   "source": [
    "# YOLO 모델 훈련 (필요 시 주석 제거)\n",
    "model.train(data=dataset_yaml, epochs=10, batch=16)"
   ]
  },
  {
   "cell_type": "code",
   "execution_count": 20,
   "id": "5e574128",
   "metadata": {},
   "outputs": [],
   "source": [
    "# 테스트 데이터 경로\n",
    "test_path = '/home/ec2-user/SageMaker/data/yolov8detections/test/labels'"
   ]
  },
  {
   "cell_type": "code",
   "execution_count": 21,
   "id": "d9acfba8",
   "metadata": {},
   "outputs": [
    {
     "name": "stdout",
     "output_type": "stream",
     "text": [
      "\n"
     ]
    },
    {
     "ename": "FileNotFoundError",
     "evalue": "No images or videos found in /home/ec2-user/SageMaker/data/yolov8detections/test/labels. Supported formats are:\nimages: {'pfm', 'png', 'webp', 'dng', 'jpeg', 'bmp', 'tif', 'jpg', 'mpo', 'heic', 'tiff'}\nvideos: {'mpg', 'webm', 'mov', 'gif', 'mpeg', 'mp4', 'ts', 'mkv', 'avi', 'wmv', 'm4v', 'asf'}",
     "output_type": "error",
     "traceback": [
      "\u001b[0;31m---------------------------------------------------------------------------\u001b[0m",
      "\u001b[0;31mFileNotFoundError\u001b[0m                         Traceback (most recent call last)",
      "Cell \u001b[0;32mIn[21], line 2\u001b[0m\n\u001b[1;32m      1\u001b[0m \u001b[38;5;66;03m# 예측 수행\u001b[39;00m\n\u001b[0;32m----> 2\u001b[0m results \u001b[38;5;241m=\u001b[39m \u001b[43mmodel\u001b[49m\u001b[38;5;241;43m.\u001b[39;49m\u001b[43mpredict\u001b[49m\u001b[43m(\u001b[49m\u001b[43msource\u001b[49m\u001b[38;5;241;43m=\u001b[39;49m\u001b[43mtest_path\u001b[49m\u001b[43m,\u001b[49m\u001b[43m \u001b[49m\u001b[43msave\u001b[49m\u001b[38;5;241;43m=\u001b[39;49m\u001b[38;5;28;43;01mFalse\u001b[39;49;00m\u001b[43m,\u001b[49m\u001b[43m \u001b[49m\u001b[43mconf\u001b[49m\u001b[38;5;241;43m=\u001b[39;49m\u001b[38;5;241;43m0.1\u001b[39;49m\u001b[43m)\u001b[49m\n",
      "File \u001b[0;32m~/anaconda3/envs/pytorch_p310/lib/python3.10/site-packages/ultralytics/engine/model.py:557\u001b[0m, in \u001b[0;36mModel.predict\u001b[0;34m(self, source, stream, predictor, **kwargs)\u001b[0m\n\u001b[1;32m    555\u001b[0m \u001b[38;5;28;01mif\u001b[39;00m prompts \u001b[38;5;129;01mand\u001b[39;00m \u001b[38;5;28mhasattr\u001b[39m(\u001b[38;5;28mself\u001b[39m\u001b[38;5;241m.\u001b[39mpredictor, \u001b[38;5;124m\"\u001b[39m\u001b[38;5;124mset_prompts\u001b[39m\u001b[38;5;124m\"\u001b[39m):  \u001b[38;5;66;03m# for SAM-type models\u001b[39;00m\n\u001b[1;32m    556\u001b[0m     \u001b[38;5;28mself\u001b[39m\u001b[38;5;241m.\u001b[39mpredictor\u001b[38;5;241m.\u001b[39mset_prompts(prompts)\n\u001b[0;32m--> 557\u001b[0m \u001b[38;5;28;01mreturn\u001b[39;00m \u001b[38;5;28mself\u001b[39m\u001b[38;5;241m.\u001b[39mpredictor\u001b[38;5;241m.\u001b[39mpredict_cli(source\u001b[38;5;241m=\u001b[39msource) \u001b[38;5;28;01mif\u001b[39;00m is_cli \u001b[38;5;28;01melse\u001b[39;00m \u001b[38;5;28;43mself\u001b[39;49m\u001b[38;5;241;43m.\u001b[39;49m\u001b[43mpredictor\u001b[49m\u001b[43m(\u001b[49m\u001b[43msource\u001b[49m\u001b[38;5;241;43m=\u001b[39;49m\u001b[43msource\u001b[49m\u001b[43m,\u001b[49m\u001b[43m \u001b[49m\u001b[43mstream\u001b[49m\u001b[38;5;241;43m=\u001b[39;49m\u001b[43mstream\u001b[49m\u001b[43m)\u001b[49m\n",
      "File \u001b[0;32m~/anaconda3/envs/pytorch_p310/lib/python3.10/site-packages/ultralytics/engine/predictor.py:173\u001b[0m, in \u001b[0;36mBasePredictor.__call__\u001b[0;34m(self, source, model, stream, *args, **kwargs)\u001b[0m\n\u001b[1;32m    171\u001b[0m     \u001b[38;5;28;01mreturn\u001b[39;00m \u001b[38;5;28mself\u001b[39m\u001b[38;5;241m.\u001b[39mstream_inference(source, model, \u001b[38;5;241m*\u001b[39margs, \u001b[38;5;241m*\u001b[39m\u001b[38;5;241m*\u001b[39mkwargs)\n\u001b[1;32m    172\u001b[0m \u001b[38;5;28;01melse\u001b[39;00m:\n\u001b[0;32m--> 173\u001b[0m     \u001b[38;5;28;01mreturn\u001b[39;00m \u001b[38;5;28;43mlist\u001b[39;49m\u001b[43m(\u001b[49m\u001b[38;5;28;43mself\u001b[39;49m\u001b[38;5;241;43m.\u001b[39;49m\u001b[43mstream_inference\u001b[49m\u001b[43m(\u001b[49m\u001b[43msource\u001b[49m\u001b[43m,\u001b[49m\u001b[43m \u001b[49m\u001b[43mmodel\u001b[49m\u001b[43m,\u001b[49m\u001b[43m \u001b[49m\u001b[38;5;241;43m*\u001b[39;49m\u001b[43margs\u001b[49m\u001b[43m,\u001b[49m\u001b[43m \u001b[49m\u001b[38;5;241;43m*\u001b[39;49m\u001b[38;5;241;43m*\u001b[39;49m\u001b[43mkwargs\u001b[49m\u001b[43m)\u001b[49m\u001b[43m)\u001b[49m\n",
      "File \u001b[0;32m~/anaconda3/envs/pytorch_p310/lib/python3.10/site-packages/torch/utils/_contextlib.py:35\u001b[0m, in \u001b[0;36m_wrap_generator.<locals>.generator_context\u001b[0;34m(*args, **kwargs)\u001b[0m\n\u001b[1;32m     32\u001b[0m \u001b[38;5;28;01mtry\u001b[39;00m:\n\u001b[1;32m     33\u001b[0m     \u001b[38;5;66;03m# Issuing `None` to a generator fires it up\u001b[39;00m\n\u001b[1;32m     34\u001b[0m     \u001b[38;5;28;01mwith\u001b[39;00m ctx_factory():\n\u001b[0;32m---> 35\u001b[0m         response \u001b[38;5;241m=\u001b[39m \u001b[43mgen\u001b[49m\u001b[38;5;241;43m.\u001b[39;49m\u001b[43msend\u001b[49m\u001b[43m(\u001b[49m\u001b[38;5;28;43;01mNone\u001b[39;49;00m\u001b[43m)\u001b[49m\n\u001b[1;32m     37\u001b[0m     \u001b[38;5;28;01mwhile\u001b[39;00m \u001b[38;5;28;01mTrue\u001b[39;00m:\n\u001b[1;32m     38\u001b[0m         \u001b[38;5;28;01mtry\u001b[39;00m:\n\u001b[1;32m     39\u001b[0m             \u001b[38;5;66;03m# Forward the response to our caller and get its next request\u001b[39;00m\n",
      "File \u001b[0;32m~/anaconda3/envs/pytorch_p310/lib/python3.10/site-packages/ultralytics/engine/predictor.py:231\u001b[0m, in \u001b[0;36mBasePredictor.stream_inference\u001b[0;34m(self, source, model, *args, **kwargs)\u001b[0m\n\u001b[1;32m    227\u001b[0m     \u001b[38;5;28mself\u001b[39m\u001b[38;5;241m.\u001b[39msetup_model(model)\n\u001b[1;32m    229\u001b[0m \u001b[38;5;28;01mwith\u001b[39;00m \u001b[38;5;28mself\u001b[39m\u001b[38;5;241m.\u001b[39m_lock:  \u001b[38;5;66;03m# for thread-safe inference\u001b[39;00m\n\u001b[1;32m    230\u001b[0m     \u001b[38;5;66;03m# Setup source every time predict is called\u001b[39;00m\n\u001b[0;32m--> 231\u001b[0m     \u001b[38;5;28;43mself\u001b[39;49m\u001b[38;5;241;43m.\u001b[39;49m\u001b[43msetup_source\u001b[49m\u001b[43m(\u001b[49m\u001b[43msource\u001b[49m\u001b[43m \u001b[49m\u001b[38;5;28;43;01mif\u001b[39;49;00m\u001b[43m \u001b[49m\u001b[43msource\u001b[49m\u001b[43m \u001b[49m\u001b[38;5;129;43;01mis\u001b[39;49;00m\u001b[43m \u001b[49m\u001b[38;5;129;43;01mnot\u001b[39;49;00m\u001b[43m \u001b[49m\u001b[38;5;28;43;01mNone\u001b[39;49;00m\u001b[43m \u001b[49m\u001b[38;5;28;43;01melse\u001b[39;49;00m\u001b[43m \u001b[49m\u001b[38;5;28;43mself\u001b[39;49m\u001b[38;5;241;43m.\u001b[39;49m\u001b[43margs\u001b[49m\u001b[38;5;241;43m.\u001b[39;49m\u001b[43msource\u001b[49m\u001b[43m)\u001b[49m\n\u001b[1;32m    233\u001b[0m     \u001b[38;5;66;03m# Check if save_dir/ label file exists\u001b[39;00m\n\u001b[1;32m    234\u001b[0m     \u001b[38;5;28;01mif\u001b[39;00m \u001b[38;5;28mself\u001b[39m\u001b[38;5;241m.\u001b[39margs\u001b[38;5;241m.\u001b[39msave \u001b[38;5;129;01mor\u001b[39;00m \u001b[38;5;28mself\u001b[39m\u001b[38;5;241m.\u001b[39margs\u001b[38;5;241m.\u001b[39msave_txt:\n",
      "File \u001b[0;32m~/anaconda3/envs/pytorch_p310/lib/python3.10/site-packages/ultralytics/engine/predictor.py:203\u001b[0m, in \u001b[0;36mBasePredictor.setup_source\u001b[0;34m(self, source)\u001b[0m\n\u001b[1;32m    193\u001b[0m \u001b[38;5;28mself\u001b[39m\u001b[38;5;241m.\u001b[39mimgsz \u001b[38;5;241m=\u001b[39m check_imgsz(\u001b[38;5;28mself\u001b[39m\u001b[38;5;241m.\u001b[39margs\u001b[38;5;241m.\u001b[39mimgsz, stride\u001b[38;5;241m=\u001b[39m\u001b[38;5;28mself\u001b[39m\u001b[38;5;241m.\u001b[39mmodel\u001b[38;5;241m.\u001b[39mstride, min_dim\u001b[38;5;241m=\u001b[39m\u001b[38;5;241m2\u001b[39m)  \u001b[38;5;66;03m# check image size\u001b[39;00m\n\u001b[1;32m    194\u001b[0m \u001b[38;5;28mself\u001b[39m\u001b[38;5;241m.\u001b[39mtransforms \u001b[38;5;241m=\u001b[39m (\n\u001b[1;32m    195\u001b[0m     \u001b[38;5;28mgetattr\u001b[39m(\n\u001b[1;32m    196\u001b[0m         \u001b[38;5;28mself\u001b[39m\u001b[38;5;241m.\u001b[39mmodel\u001b[38;5;241m.\u001b[39mmodel,\n\u001b[0;32m   (...)\u001b[0m\n\u001b[1;32m    201\u001b[0m     \u001b[38;5;28;01melse\u001b[39;00m \u001b[38;5;28;01mNone\u001b[39;00m\n\u001b[1;32m    202\u001b[0m )\n\u001b[0;32m--> 203\u001b[0m \u001b[38;5;28mself\u001b[39m\u001b[38;5;241m.\u001b[39mdataset \u001b[38;5;241m=\u001b[39m \u001b[43mload_inference_source\u001b[49m\u001b[43m(\u001b[49m\n\u001b[1;32m    204\u001b[0m \u001b[43m    \u001b[49m\u001b[43msource\u001b[49m\u001b[38;5;241;43m=\u001b[39;49m\u001b[43msource\u001b[49m\u001b[43m,\u001b[49m\n\u001b[1;32m    205\u001b[0m \u001b[43m    \u001b[49m\u001b[43mbatch\u001b[49m\u001b[38;5;241;43m=\u001b[39;49m\u001b[38;5;28;43mself\u001b[39;49m\u001b[38;5;241;43m.\u001b[39;49m\u001b[43margs\u001b[49m\u001b[38;5;241;43m.\u001b[39;49m\u001b[43mbatch\u001b[49m\u001b[43m,\u001b[49m\n\u001b[1;32m    206\u001b[0m \u001b[43m    \u001b[49m\u001b[43mvid_stride\u001b[49m\u001b[38;5;241;43m=\u001b[39;49m\u001b[38;5;28;43mself\u001b[39;49m\u001b[38;5;241;43m.\u001b[39;49m\u001b[43margs\u001b[49m\u001b[38;5;241;43m.\u001b[39;49m\u001b[43mvid_stride\u001b[49m\u001b[43m,\u001b[49m\n\u001b[1;32m    207\u001b[0m \u001b[43m    \u001b[49m\u001b[43mbuffer\u001b[49m\u001b[38;5;241;43m=\u001b[39;49m\u001b[38;5;28;43mself\u001b[39;49m\u001b[38;5;241;43m.\u001b[39;49m\u001b[43margs\u001b[49m\u001b[38;5;241;43m.\u001b[39;49m\u001b[43mstream_buffer\u001b[49m\u001b[43m,\u001b[49m\n\u001b[1;32m    208\u001b[0m \u001b[43m\u001b[49m\u001b[43m)\u001b[49m\n\u001b[1;32m    209\u001b[0m \u001b[38;5;28mself\u001b[39m\u001b[38;5;241m.\u001b[39msource_type \u001b[38;5;241m=\u001b[39m \u001b[38;5;28mself\u001b[39m\u001b[38;5;241m.\u001b[39mdataset\u001b[38;5;241m.\u001b[39msource_type\n\u001b[1;32m    210\u001b[0m \u001b[38;5;28;01mif\u001b[39;00m \u001b[38;5;129;01mnot\u001b[39;00m \u001b[38;5;28mgetattr\u001b[39m(\u001b[38;5;28mself\u001b[39m, \u001b[38;5;124m\"\u001b[39m\u001b[38;5;124mstream\u001b[39m\u001b[38;5;124m\"\u001b[39m, \u001b[38;5;28;01mTrue\u001b[39;00m) \u001b[38;5;129;01mand\u001b[39;00m (\n\u001b[1;32m    211\u001b[0m     \u001b[38;5;28mself\u001b[39m\u001b[38;5;241m.\u001b[39msource_type\u001b[38;5;241m.\u001b[39mstream\n\u001b[1;32m    212\u001b[0m     \u001b[38;5;129;01mor\u001b[39;00m \u001b[38;5;28mself\u001b[39m\u001b[38;5;241m.\u001b[39msource_type\u001b[38;5;241m.\u001b[39mscreenshot\n\u001b[1;32m    213\u001b[0m     \u001b[38;5;129;01mor\u001b[39;00m \u001b[38;5;28mlen\u001b[39m(\u001b[38;5;28mself\u001b[39m\u001b[38;5;241m.\u001b[39mdataset) \u001b[38;5;241m>\u001b[39m \u001b[38;5;241m1000\u001b[39m  \u001b[38;5;66;03m# many images\u001b[39;00m\n\u001b[1;32m    214\u001b[0m     \u001b[38;5;129;01mor\u001b[39;00m \u001b[38;5;28many\u001b[39m(\u001b[38;5;28mgetattr\u001b[39m(\u001b[38;5;28mself\u001b[39m\u001b[38;5;241m.\u001b[39mdataset, \u001b[38;5;124m\"\u001b[39m\u001b[38;5;124mvideo_flag\u001b[39m\u001b[38;5;124m\"\u001b[39m, [\u001b[38;5;28;01mFalse\u001b[39;00m]))\n\u001b[1;32m    215\u001b[0m ):  \u001b[38;5;66;03m# videos\u001b[39;00m\n",
      "File \u001b[0;32m~/anaconda3/envs/pytorch_p310/lib/python3.10/site-packages/ultralytics/data/build.py:202\u001b[0m, in \u001b[0;36mload_inference_source\u001b[0;34m(source, batch, vid_stride, buffer)\u001b[0m\n\u001b[1;32m    200\u001b[0m     dataset \u001b[38;5;241m=\u001b[39m LoadPilAndNumpy(source)\n\u001b[1;32m    201\u001b[0m \u001b[38;5;28;01melse\u001b[39;00m:\n\u001b[0;32m--> 202\u001b[0m     dataset \u001b[38;5;241m=\u001b[39m \u001b[43mLoadImagesAndVideos\u001b[49m\u001b[43m(\u001b[49m\u001b[43msource\u001b[49m\u001b[43m,\u001b[49m\u001b[43m \u001b[49m\u001b[43mbatch\u001b[49m\u001b[38;5;241;43m=\u001b[39;49m\u001b[43mbatch\u001b[49m\u001b[43m,\u001b[49m\u001b[43m \u001b[49m\u001b[43mvid_stride\u001b[49m\u001b[38;5;241;43m=\u001b[39;49m\u001b[43mvid_stride\u001b[49m\u001b[43m)\u001b[49m\n\u001b[1;32m    204\u001b[0m \u001b[38;5;66;03m# Attach source types to the dataset\u001b[39;00m\n\u001b[1;32m    205\u001b[0m \u001b[38;5;28msetattr\u001b[39m(dataset, \u001b[38;5;124m\"\u001b[39m\u001b[38;5;124msource_type\u001b[39m\u001b[38;5;124m\"\u001b[39m, source_type)\n",
      "File \u001b[0;32m~/anaconda3/envs/pytorch_p310/lib/python3.10/site-packages/ultralytics/data/loaders.py:365\u001b[0m, in \u001b[0;36mLoadImagesAndVideos.__init__\u001b[0;34m(self, path, batch, vid_stride)\u001b[0m\n\u001b[1;32m    363\u001b[0m     \u001b[38;5;28mself\u001b[39m\u001b[38;5;241m.\u001b[39mcap \u001b[38;5;241m=\u001b[39m \u001b[38;5;28;01mNone\u001b[39;00m\n\u001b[1;32m    364\u001b[0m \u001b[38;5;28;01mif\u001b[39;00m \u001b[38;5;28mself\u001b[39m\u001b[38;5;241m.\u001b[39mnf \u001b[38;5;241m==\u001b[39m \u001b[38;5;241m0\u001b[39m:\n\u001b[0;32m--> 365\u001b[0m     \u001b[38;5;28;01mraise\u001b[39;00m \u001b[38;5;167;01mFileNotFoundError\u001b[39;00m(\u001b[38;5;124mf\u001b[39m\u001b[38;5;124m\"\u001b[39m\u001b[38;5;124mNo images or videos found in \u001b[39m\u001b[38;5;132;01m{\u001b[39;00mp\u001b[38;5;132;01m}\u001b[39;00m\u001b[38;5;124m. \u001b[39m\u001b[38;5;132;01m{\u001b[39;00mFORMATS_HELP_MSG\u001b[38;5;132;01m}\u001b[39;00m\u001b[38;5;124m\"\u001b[39m)\n",
      "\u001b[0;31mFileNotFoundError\u001b[0m: No images or videos found in /home/ec2-user/SageMaker/data/yolov8detections/test/labels. Supported formats are:\nimages: {'pfm', 'png', 'webp', 'dng', 'jpeg', 'bmp', 'tif', 'jpg', 'mpo', 'heic', 'tiff'}\nvideos: {'mpg', 'webm', 'mov', 'gif', 'mpeg', 'mp4', 'ts', 'mkv', 'avi', 'wmv', 'm4v', 'asf'}"
     ]
    }
   ],
   "source": [
    "# 예측 수행\n",
    "results = model.predict(source=test_path, save=False, conf=0.1)"
   ]
  },
  {
   "cell_type": "code",
   "execution_count": null,
   "id": "6012fed1",
   "metadata": {},
   "outputs": [],
   "source": []
  },
  {
   "cell_type": "code",
   "execution_count": 19,
   "id": "7e9c0c5c",
   "metadata": {},
   "outputs": [
    {
     "ename": "IndexError",
     "evalue": "index 4 is out of bounds for dimension 0 with size 4",
     "output_type": "error",
     "traceback": [
      "\u001b[0;31m---------------------------------------------------------------------------\u001b[0m",
      "\u001b[0;31mIndexError\u001b[0m                                Traceback (most recent call last)",
      "Cell \u001b[0;32mIn[19], line 8\u001b[0m\n\u001b[1;32m      6\u001b[0m \u001b[38;5;28;01mfor\u001b[39;00m box \u001b[38;5;129;01min\u001b[39;00m result\u001b[38;5;241m.\u001b[39mboxes\u001b[38;5;241m.\u001b[39mxyxy:  \u001b[38;5;66;03m# Access bounding boxes in xyxy format\u001b[39;00m\n\u001b[1;32m      7\u001b[0m     x1, y1, x2, y2 \u001b[38;5;241m=\u001b[39m box[:\u001b[38;5;241m4\u001b[39m]\u001b[38;5;241m.\u001b[39mtolist()\n\u001b[0;32m----> 8\u001b[0m     score \u001b[38;5;241m=\u001b[39m \u001b[43mbox\u001b[49m\u001b[43m[\u001b[49m\u001b[38;5;241;43m4\u001b[39;49m\u001b[43m]\u001b[49m\u001b[38;5;241m.\u001b[39mitem()\n\u001b[1;32m      9\u001b[0m     class_id \u001b[38;5;241m=\u001b[39m box[\u001b[38;5;241m5\u001b[39m]\u001b[38;5;241m.\u001b[39mitem()\n\u001b[1;32m     10\u001b[0m     predictions\u001b[38;5;241m.\u001b[39mappend([x1, y1, x2, y2, score, class_id])\n",
      "\u001b[0;31mIndexError\u001b[0m: index 4 is out of bounds for dimension 0 with size 4"
     ]
    }
   ],
   "source": [
    "# NMS 적용\n",
    "final_results = []\n",
    "for result in results:\n",
    "    # Convert YOLO output to format [x1, y1, x2, y2, score, class_id]\n",
    "    predictions = []\n",
    "    for box in result.boxes.xyxy:  # Access bounding boxes in xyxy format\n",
    "        x1, y1, x2, y2 = box[:4].tolist()\n",
    "        score = box[4].item()\n",
    "        class_id = box[5].item()\n",
    "        predictions.append([x1, y1, x2, y2, score, class_id])\n",
    "\n",
    "    # Apply NMS\n",
    "    nms_result = apply_nms(predictions, iou_threshold=0.5, score_threshold=0.3)\n",
    "    final_results.append(nms_result)"
   ]
  },
  {
   "cell_type": "code",
   "execution_count": 21,
   "id": "b3de167a",
   "metadata": {},
   "outputs": [
    {
     "name": "stdout",
     "output_type": "stream",
     "text": [
      "Image 1 detections after NMS:\n",
      "Image 2 detections after NMS:\n",
      "Image 3 detections after NMS:\n",
      "Image 4 detections after NMS:\n",
      "Image 5 detections after NMS:\n",
      "Image 6 detections after NMS:\n",
      "Image 7 detections after NMS:\n",
      "Image 8 detections after NMS:\n",
      "Image 9 detections after NMS:\n",
      "Image 10 detections after NMS:\n",
      "Image 11 detections after NMS:\n",
      "Image 12 detections after NMS:\n",
      "Image 13 detections after NMS:\n",
      "Image 14 detections after NMS:\n",
      "Image 15 detections after NMS:\n",
      "Image 16 detections after NMS:\n",
      "Image 17 detections after NMS:\n",
      "Image 18 detections after NMS:\n",
      "Image 19 detections after NMS:\n",
      "Image 20 detections after NMS:\n",
      "Image 21 detections after NMS:\n",
      "Image 22 detections after NMS:\n",
      "Image 23 detections after NMS:\n",
      "Image 24 detections after NMS:\n",
      "Image 25 detections after NMS:\n",
      "Image 26 detections after NMS:\n",
      "Image 27 detections after NMS:\n",
      "Image 28 detections after NMS:\n",
      "Image 29 detections after NMS:\n",
      "Image 30 detections after NMS:\n",
      "Image 31 detections after NMS:\n",
      "Image 32 detections after NMS:\n",
      "Image 33 detections after NMS:\n",
      "Image 34 detections after NMS:\n",
      "Image 35 detections after NMS:\n",
      "Image 36 detections after NMS:\n",
      "Image 37 detections after NMS:\n",
      "Image 38 detections after NMS:\n",
      "Image 39 detections after NMS:\n",
      "Image 40 detections after NMS:\n",
      "Image 41 detections after NMS:\n",
      "Image 42 detections after NMS:\n",
      "Image 43 detections after NMS:\n",
      "Image 44 detections after NMS:\n",
      "Image 45 detections after NMS:\n",
      "Image 46 detections after NMS:\n",
      "Image 47 detections after NMS:\n",
      "Image 48 detections after NMS:\n",
      "Image 49 detections after NMS:\n",
      "Image 50 detections after NMS:\n",
      "Image 51 detections after NMS:\n",
      "Image 52 detections after NMS:\n",
      "Image 53 detections after NMS:\n",
      "Image 54 detections after NMS:\n",
      "Image 55 detections after NMS:\n",
      "Image 56 detections after NMS:\n",
      "Image 57 detections after NMS:\n",
      "Image 58 detections after NMS:\n",
      "Image 59 detections after NMS:\n",
      "Image 60 detections after NMS:\n",
      "Image 61 detections after NMS:\n",
      "Image 62 detections after NMS:\n",
      "Image 63 detections after NMS:\n",
      "Image 64 detections after NMS:\n",
      "Image 65 detections after NMS:\n",
      "Image 66 detections after NMS:\n",
      "Image 67 detections after NMS:\n",
      "Image 68 detections after NMS:\n",
      "Image 69 detections after NMS:\n",
      "Image 70 detections after NMS:\n",
      "Image 71 detections after NMS:\n",
      "Image 72 detections after NMS:\n",
      "Image 73 detections after NMS:\n",
      "Image 74 detections after NMS:\n",
      "Image 75 detections after NMS:\n",
      "Image 76 detections after NMS:\n",
      "Image 77 detections after NMS:\n",
      "Image 78 detections after NMS:\n",
      "Image 79 detections after NMS:\n",
      "Image 80 detections after NMS:\n",
      "Image 81 detections after NMS:\n",
      "Image 82 detections after NMS:\n",
      "Image 83 detections after NMS:\n",
      "Image 84 detections after NMS:\n",
      "Image 85 detections after NMS:\n",
      "Image 86 detections after NMS:\n",
      "Image 87 detections after NMS:\n",
      "Image 88 detections after NMS:\n",
      "Image 89 detections after NMS:\n",
      "Image 90 detections after NMS:\n",
      "Image 91 detections after NMS:\n",
      "Image 92 detections after NMS:\n",
      "Image 93 detections after NMS:\n",
      "Image 94 detections after NMS:\n",
      "Image 95 detections after NMS:\n",
      "Image 96 detections after NMS:\n",
      "Image 97 detections after NMS:\n",
      "Image 98 detections after NMS:\n",
      "Image 99 detections after NMS:\n",
      "Image 100 detections after NMS:\n",
      "Image 101 detections after NMS:\n",
      "Image 102 detections after NMS:\n",
      "Image 103 detections after NMS:\n",
      "Image 104 detections after NMS:\n",
      "Image 105 detections after NMS:\n",
      "Image 106 detections after NMS:\n",
      "Image 107 detections after NMS:\n",
      "Image 108 detections after NMS:\n",
      "Image 109 detections after NMS:\n",
      "Image 110 detections after NMS:\n",
      "Image 111 detections after NMS:\n",
      "Image 112 detections after NMS:\n",
      "Image 113 detections after NMS:\n",
      "Image 114 detections after NMS:\n",
      "Image 115 detections after NMS:\n",
      "Image 116 detections after NMS:\n",
      "Image 117 detections after NMS:\n",
      "Image 118 detections after NMS:\n"
     ]
    }
   ],
   "source": [
    "# 결과 출력\n",
    "for i, img_results in enumerate(final_results):\n",
    "    print(f\"Image {i+1} detections after NMS:\")\n",
    "    for det in img_results:\n",
    "        print(det)"
   ]
  },
  {
   "cell_type": "code",
   "execution_count": null,
   "id": "db42a3b7",
   "metadata": {},
   "outputs": [],
   "source": []
  },
  {
   "cell_type": "code",
   "execution_count": null,
   "id": "b8e1b769",
   "metadata": {},
   "outputs": [],
   "source": []
  }
 ],
 "metadata": {
  "kernelspec": {
   "display_name": "conda_pytorch_p310",
   "language": "python",
   "name": "conda_pytorch_p310"
  },
  "language_info": {
   "codemirror_mode": {
    "name": "ipython",
    "version": 3
   },
   "file_extension": ".py",
   "mimetype": "text/x-python",
   "name": "python",
   "nbconvert_exporter": "python",
   "pygments_lexer": "ipython3",
   "version": "3.10.14"
  }
 },
 "nbformat": 4,
 "nbformat_minor": 5
}
