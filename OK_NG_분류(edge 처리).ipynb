{
 "cells": [
  {
   "cell_type": "code",
   "execution_count": 1,
   "id": "476441c2",
   "metadata": {},
   "outputs": [
    {
     "name": "stdout",
     "output_type": "stream",
     "text": [
      "GPU is available: Tesla T4\n",
      "Number of GPUs available: 1\n"
     ]
    }
   ],
   "source": [
    "import torch\n",
    "\n",
    "# GPU 지원 여부 확인\n",
    "if torch.cuda.is_available():\n",
    "    print(f\"GPU is available: {torch.cuda.get_device_name(0)}\")\n",
    "    print(f\"Number of GPUs available: {torch.cuda.device_count()}\")\n",
    "else:\n",
    "    print(\"GPU is not available. Using CPU.\")\n"
   ]
  },
  {
   "cell_type": "code",
   "execution_count": 2,
   "id": "1d92539f",
   "metadata": {},
   "outputs": [
    {
     "data": {
      "text/plain": [
       "'/home/ec2-user/SageMaker/yujin'"
      ]
     },
     "execution_count": 2,
     "metadata": {},
     "output_type": "execute_result"
    }
   ],
   "source": [
    "pwd"
   ]
  },
  {
   "cell_type": "code",
   "execution_count": 3,
   "id": "dc40e861",
   "metadata": {},
   "outputs": [],
   "source": [
    "import os\n",
    "import shutil\n",
    "import random\n",
    "from sklearn.model_selection import train_test_split\n",
    "import torch\n",
    "import torch.nn as nn\n",
    "import torch.optim as optim\n",
    "from torchvision import datasets, transforms, models\n",
    "from torch.utils.data import DataLoader\n",
    "from sklearn.metrics import classification_report, confusion_matrix\n",
    "\n"
   ]
  },
  {
   "cell_type": "code",
   "execution_count": 9,
   "id": "ff298c72",
   "metadata": {},
   "outputs": [
    {
     "name": "stdout",
     "output_type": "stream",
     "text": [
      "NG 데이터를 /home/ec2-user/SageMaker/data/Final_Data/NG_Merged에 통합 완료!\n"
     ]
    }
   ],
   "source": [
    "import os\n",
    "import shutil\n",
    "\n",
    "# NG 데이터 디렉터리\n",
    "ng_base_dir = \"/home/ec2-user/SageMaker/data/Final_Data/NG\"\n",
    "ng_target_dir = \"/home/ec2-user/SageMaker/data/Final_Data/NG_Merged\"\n",
    "\n",
    "# NG 데이터를 하나로 통합\n",
    "os.makedirs(ng_target_dir, exist_ok=True)\n",
    "\n",
    "for class_dir in os.listdir(ng_base_dir):\n",
    "    class_path = os.path.join(ng_base_dir, class_dir)\n",
    "    if os.path.isdir(class_path):  # 하위 디렉터리만 처리\n",
    "        for file_name in os.listdir(class_path):\n",
    "            file_path = os.path.join(class_path, file_name)\n",
    "            if file_path.lower().endswith(\".bmp\"):  # bmp 파일만 복사\n",
    "                shutil.copy(file_path, ng_target_dir)\n",
    "\n",
    "print(f\"NG 데이터를 {ng_target_dir}에 통합 완료!\")\n"
   ]
  },
  {
   "cell_type": "code",
   "execution_count": 17,
   "id": "80f8bc5c",
   "metadata": {},
   "outputs": [
    {
     "name": "stdout",
     "output_type": "stream",
     "text": [
      "데이터 분할 완료! 분할된 데이터는 /home/ec2-user/SageMaker/yujin/Final_Data_Split에 저장되었습니다.\n"
     ]
    }
   ],
   "source": [
    "import os\n",
    "import shutil\n",
    "import random\n",
    "from sklearn.model_selection import train_test_split\n",
    "# 작업 디렉터리 및 데이터 경로 설정\n",
    "base_dir = \"/home/ec2-user/SageMaker\"\n",
    "data_dir = os.path.join(base_dir, \"data\", \"Final_Data\")\n",
    "ok_dir = os.path.join(data_dir, \"OK_processed_v2\")\n",
    "ng_dir = os.path.join(data_dir, \"NG_Merged\")  # 통합된 NG 데이터 경로\n",
    "\n",
    "# 분할된 데이터 저장 경로\n",
    "split_data_dir = os.path.join(base_dir, \"yujin\", \"Final_Data_Split\")\n",
    "train_dir = os.path.join(split_data_dir, \"train\")\n",
    "val_dir = os.path.join(split_data_dir, \"val\")\n",
    "test_dir = os.path.join(split_data_dir, \"test\")\n",
    "\n",
    "# 분할 비율\n",
    "train_ratio = 0.7\n",
    "val_ratio = 0.15\n",
    "test_ratio = 0.15\n",
    "\n",
    "# 데이터 가져오기\n",
    "ok_images = [os.path.join(ok_dir, f) for f in os.listdir(ok_dir) if f.lower().endswith(\".bmp\")]\n",
    "ng_images = [os.path.join(ng_dir, f) for f in os.listdir(ng_dir) if f.lower().endswith(\".bmp\")]\n",
    "\n",
    "# 데이터 섞기\n",
    "random.shuffle(ok_images)\n",
    "random.shuffle(ng_images)\n",
    "\n",
    "# 데이터 분할 함수\n",
    "def split_data(data_list, train_ratio, val_ratio):\n",
    "    train, temp = train_test_split(data_list, test_size=(1 - train_ratio))\n",
    "    val, test = train_test_split(temp, test_size=(test_ratio / (test_ratio + val_ratio)))\n",
    "    return train, val, test\n",
    "\n",
    "# OK와 NG 데이터 분할\n",
    "ok_train, ok_val, ok_test = split_data(ok_images, train_ratio, val_ratio)\n",
    "ng_train, ng_val, ng_test = split_data(ng_images, train_ratio, val_ratio)\n",
    "\n",
    "# 파일 복사 함수\n",
    "def copy_files(file_list, target_dir):\n",
    "    os.makedirs(target_dir, exist_ok=True)\n",
    "    for file_path in file_list:\n",
    "        shutil.copy(file_path, target_dir)\n",
    "\n",
    "# 분할된 데이터를 저장\n",
    "def save_split_data(class_name, train_files, val_files, test_files):\n",
    "    copy_files(train_files, os.path.join(train_dir, class_name))\n",
    "    copy_files(val_files, os.path.join(val_dir, class_name))\n",
    "    copy_files(test_files, os.path.join(test_dir, class_name))\n",
    "\n",
    "save_split_data(\"OK\", ok_train, ok_val, ok_test)\n",
    "save_split_data(\"NG\", ng_train, ng_val, ng_test)\n",
    "\n",
    "print(f\"데이터 분할 완료! 분할된 데이터는 {split_data_dir}에 저장되었습니다.\")"
   ]
  },
  {
   "cell_type": "code",
   "execution_count": 11,
   "id": "2c618792",
   "metadata": {},
   "outputs": [
    {
     "name": "stdout",
     "output_type": "stream",
     "text": [
      "Classes: ['NG', 'OK']\n",
      "Dataset sizes: {'train': 3666, 'val': 786, 'test': 787}\n"
     ]
    }
   ],
   "source": [
    "# 데이터 전처리 및 변환\n",
    "data_transforms = {\n",
    "    'train': transforms.Compose([\n",
    "        transforms.Resize((224, 224)),\n",
    "        transforms.ToTensor(),\n",
    "        transforms.Normalize([0.485, 0.456, 0.406], [0.229, 0.224, 0.225])\n",
    "    ]),\n",
    "    'val': transforms.Compose([\n",
    "        transforms.Resize((224, 224)),\n",
    "        transforms.ToTensor(),\n",
    "        transforms.Normalize([0.485, 0.456, 0.406], [0.229, 0.224, 0.225])\n",
    "    ]),\n",
    "    'test': transforms.Compose([\n",
    "        transforms.Resize((224, 224)),\n",
    "        transforms.ToTensor(),\n",
    "        transforms.Normalize([0.485, 0.456, 0.406], [0.229, 0.224, 0.225])\n",
    "    ])\n",
    "}\n",
    "\n",
    "# DataLoader 설정\n",
    "dataloaders = {\n",
    "    x: DataLoader(\n",
    "        datasets.ImageFolder(root=os.path.join(split_data_dir, x), transform=data_transforms[x]),\n",
    "        batch_size=32, shuffle=(x == 'train'), num_workers=4\n",
    "    )\n",
    "    for x in ['train', 'val', 'test']\n",
    "}\n",
    "\n",
    "dataset_sizes = {x: len(dataloaders[x].dataset) for x in ['train', 'val', 'test']}\n",
    "class_names = dataloaders['train'].dataset.classes\n",
    "\n",
    "print(f\"Classes: {class_names}\")\n",
    "print(f\"Dataset sizes: {dataset_sizes}\")\n"
   ]
  },
  {
   "cell_type": "code",
   "execution_count": 12,
   "id": "dfbe2a74",
   "metadata": {},
   "outputs": [],
   "source": [
    "# 모델 정의 및 학습"
   ]
  },
  {
   "cell_type": "code",
   "execution_count": null,
   "id": "191f8dd9",
   "metadata": {},
   "outputs": [
    {
     "name": "stderr",
     "output_type": "stream",
     "text": [
      "/home/ec2-user/anaconda3/envs/pytorch_p310/lib/python3.10/site-packages/torchvision/models/_utils.py:208: UserWarning: The parameter 'pretrained' is deprecated since 0.13 and may be removed in the future, please use 'weights' instead.\n",
      "  warnings.warn(\n",
      "/home/ec2-user/anaconda3/envs/pytorch_p310/lib/python3.10/site-packages/torchvision/models/_utils.py:223: UserWarning: Arguments other than a weight enum or `None` for 'weights' are deprecated since 0.13 and may be removed in the future. The current behavior is equivalent to passing `weights=ResNet50_Weights.IMAGENET1K_V1`. You can also use `weights=ResNet50_Weights.DEFAULT` to get the most up-to-date weights.\n",
      "  warnings.warn(msg)\n",
      "Downloading: \"https://download.pytorch.org/models/resnet50-0676ba61.pth\" to /home/ec2-user/.cache/torch/hub/checkpoints/resnet50-0676ba61.pth\n",
      "100%|██████████| 97.8M/97.8M [00:00<00:00, 220MB/s]\n"
     ]
    },
    {
     "name": "stdout",
     "output_type": "stream",
     "text": [
      "Epoch 1/25\n",
      "train Loss: 0.1360 Acc: 29.3082\n",
      "val Loss: 0.3130 Acc: 28.2239\n",
      "Epoch 2/25\n",
      "train Loss: 0.0924 Acc: 29.1026\n",
      "val Loss: 0.5078 Acc: 26.2697\n",
      "Epoch 3/25\n",
      "train Loss: 0.0723 Acc: 28.9324\n",
      "val Loss: 0.0704 Acc: 30.5980\n",
      "Epoch 4/25\n",
      "train Loss: 0.0614 Acc: 28.9231\n",
      "val Loss: 0.1183 Acc: 30.4682\n",
      "Epoch 5/25\n",
      "train Loss: 0.0673 Acc: 28.8762\n",
      "val Loss: 0.0507 Acc: 30.7430\n",
      "Epoch 6/25\n",
      "train Loss: 0.0525 Acc: 28.8063\n",
      "val Loss: 0.0447 Acc: 30.8244\n",
      "Epoch 7/25\n",
      "train Loss: 0.0520 Acc: 28.7845\n",
      "val Loss: 0.0634 Acc: 30.6718\n",
      "Epoch 8/25\n",
      "train Loss: 0.0506 Acc: 28.8216\n",
      "val Loss: 0.0457 Acc: 30.7837\n",
      "Epoch 9/25\n",
      "train Loss: 0.0434 Acc: 28.7927\n",
      "val Loss: 0.0977 Acc: 30.1756\n",
      "Epoch 10/25\n",
      "train Loss: 0.0466 Acc: 28.7725\n",
      "val Loss: 0.0492 Acc: 30.5980\n",
      "Epoch 11/25\n",
      "train Loss: 0.0355 Acc: 28.7654\n",
      "val Loss: 0.0451 Acc: 30.6616\n",
      "Epoch 12/25\n",
      "train Loss: 0.0266 Acc: 28.7485\n",
      "val Loss: 0.0866 Acc: 30.4173\n",
      "Epoch 13/25\n",
      "train Loss: 0.0313 Acc: 28.7289\n",
      "val Loss: 0.0686 Acc: 30.6081\n",
      "Epoch 14/25\n",
      "train Loss: 0.0258 Acc: 28.6896\n",
      "val Loss: 0.0979 Acc: 30.4122\n",
      "Epoch 15/25\n",
      "train Loss: 0.0354 Acc: 28.7381\n",
      "val Loss: 0.0582 Acc: 30.5802\n",
      "Epoch 16/25\n",
      "train Loss: 0.0390 Acc: 28.7567\n",
      "val Loss: 0.0506 Acc: 30.7430\n",
      "Epoch 17/25\n",
      "train Loss: 0.0191 Acc: 28.6798\n",
      "val Loss: 0.0561 Acc: 30.7125\n",
      "Epoch 18/25\n",
      "train Loss: 0.0159 Acc: 28.7032\n",
      "val Loss: 0.0631 Acc: 30.6387\n",
      "Epoch 19/25\n",
      "train Loss: 0.0202 Acc: 28.7179\n",
      "val Loss: 0.0763 Acc: 30.5344\n",
      "Epoch 20/25\n",
      "train Loss: 0.0149 Acc: 28.6596\n",
      "val Loss: 0.1459 Acc: 29.7303\n",
      "Epoch 21/25\n",
      "train Loss: 0.0289 Acc: 28.6890\n",
      "val Loss: 0.0534 Acc: 30.6209\n",
      "Epoch 22/25\n"
     ]
    }
   ],
   "source": [
    "# 모델 정의 (Pre-trained ResNet50)\n",
    "device = torch.device(\"cuda\" if torch.cuda.is_available() else \"cpu\")\n",
    "model = models.resnet50(pretrained=True)\n",
    "\n",
    "# Output Layer 수정 (OK/NG 이진 분류)\n",
    "num_features = model.fc.in_features\n",
    "model.fc = nn.Sequential(\n",
    "    nn.Linear(num_features, 1),\n",
    "    nn.Sigmoid()  # 이진 분류\n",
    ")\n",
    "model = model.to(device)\n",
    "\n",
    "# 손실 함수와 옵티마이저\n",
    "criterion = nn.BCELoss()  # Binary CrossEntropy Loss\n",
    "optimizer = optim.Adam(model.parameters(), lr=0.001)\n",
    "\n",
    "# 학습 및 검증 함수\n",
    "def train_model(model, criterion, optimizer, dataloaders, num_epochs=25):\n",
    "    best_model_wts = model.state_dict()\n",
    "    best_acc = 0.0\n",
    "\n",
    "    for epoch in range(num_epochs):\n",
    "        print(f\"Epoch {epoch + 1}/{num_epochs}\")\n",
    "\n",
    "        for phase in ['train', 'val']:\n",
    "            if phase == 'train':\n",
    "                model.train()\n",
    "            else:\n",
    "                model.eval()\n",
    "\n",
    "            running_loss = 0.0\n",
    "            running_corrects = 0\n",
    "\n",
    "            for inputs, labels in dataloaders[phase]:\n",
    "                inputs = inputs.to(device)\n",
    "                labels = labels.to(device).float()\n",
    "\n",
    "                with torch.set_grad_enabled(phase == 'train'):\n",
    "                    outputs = model(inputs)\n",
    "                    preds = (outputs > 0.5).float()\n",
    "                    loss = criterion(outputs.squeeze(), labels)\n",
    "\n",
    "                    if phase == 'train':\n",
    "                        optimizer.zero_grad()\n",
    "                        loss.backward()\n",
    "                        optimizer.step()\n",
    "\n",
    "                running_loss += loss.item() * inputs.size(0)\n",
    "                running_corrects += torch.sum(preds == labels)\n",
    "\n",
    "            epoch_loss = running_loss / dataset_sizes[phase]\n",
    "            epoch_acc = running_corrects.double() / dataset_sizes[phase]\n",
    "\n",
    "            print(f\"{phase} Loss: {epoch_loss:.4f} Acc: {epoch_acc:.4f}\")\n",
    "\n",
    "            if phase == 'val' and epoch_acc > best_acc:\n",
    "                best_acc = epoch_acc\n",
    "                best_model_wts = model.state_dict()\n",
    "\n",
    "    model.load_state_dict(best_model_wts)\n",
    "    return model\n",
    "\n",
    "# 모델 학습\n",
    "model = train_model(model, criterion, optimizer, dataloaders, num_epochs=25)\n"
   ]
  },
  {
   "cell_type": "code",
   "execution_count": 14,
   "id": "2cb51906",
   "metadata": {},
   "outputs": [],
   "source": [
    "# 테스트 데이터 평가"
   ]
  },
  {
   "cell_type": "code",
   "execution_count": 16,
   "id": "f295df74",
   "metadata": {},
   "outputs": [
    {
     "name": "stdout",
     "output_type": "stream",
     "text": [
      "Confusion Matrix:\n",
      "[[ 27  18]\n",
      " [  2 740]]\n",
      "\n",
      "Classification Report:\n",
      "              precision    recall  f1-score   support\n",
      "\n",
      "          NG       0.93      0.60      0.73        45\n",
      "          OK       0.98      1.00      0.99       742\n",
      "\n",
      "    accuracy                           0.97       787\n",
      "   macro avg       0.95      0.80      0.86       787\n",
      "weighted avg       0.97      0.97      0.97       787\n",
      "\n",
      "\n",
      "Weighted F1-score: 0.9720\n",
      "\n",
      "Inference Time (Total): 34.5903 seconds\n",
      "Average Inference Time per Sample: 0.0440 seconds\n"
     ]
    }
   ],
   "source": [
    "import time\n",
    "from sklearn.metrics import classification_report, confusion_matrix, f1_score\n",
    "\n",
    "def evaluate_model(model, dataloader):\n",
    "    model.eval()\n",
    "    y_true = []\n",
    "    y_pred = []\n",
    "\n",
    "    # 추론 시간 측정 시작\n",
    "    start_time = time.time()\n",
    "\n",
    "    with torch.no_grad():\n",
    "        for inputs, labels in dataloader:\n",
    "            inputs = inputs.to(device)\n",
    "            labels = labels.to(device).float()\n",
    "\n",
    "            outputs = model(inputs)\n",
    "            preds = (outputs > 0.5).float()\n",
    "\n",
    "            y_true.extend(labels.cpu().numpy())\n",
    "            y_pred.extend(preds.cpu().numpy())\n",
    "\n",
    "    # 추론 시간 측정 종료\n",
    "    end_time = time.time()\n",
    "    inference_time = end_time - start_time\n",
    "\n",
    "    # Confusion Matrix\n",
    "    print(\"Confusion Matrix:\")\n",
    "    print(confusion_matrix(y_true, y_pred))\n",
    "\n",
    "    # Classification Report\n",
    "    print(\"\\nClassification Report:\")\n",
    "    print(classification_report(y_true, y_pred, target_names=class_names))\n",
    "\n",
    "    # F1-score 점수 출력\n",
    "    f1 = f1_score(y_true, y_pred, average=\"weighted\")\n",
    "    print(f\"\\nWeighted F1-score: {f1:.4f}\")\n",
    "\n",
    "    # 추론 시간 출력\n",
    "    print(f\"\\nInference Time (Total): {inference_time:.4f} seconds\")\n",
    "    print(f\"Average Inference Time per Sample: {inference_time / len(y_true):.4f} seconds\")\n",
    "\n",
    "# 테스트 데이터 평가\n",
    "evaluate_model(model, dataloaders['test'])\n",
    "\n"
   ]
  },
  {
   "cell_type": "code",
   "execution_count": null,
   "id": "d6ad4e67",
   "metadata": {},
   "outputs": [],
   "source": []
  },
  {
   "cell_type": "code",
   "execution_count": null,
   "id": "509341ec",
   "metadata": {},
   "outputs": [],
   "source": []
  }
 ],
 "metadata": {
  "kernelspec": {
   "display_name": "conda_pytorch_p310",
   "language": "python",
   "name": "conda_pytorch_p310"
  },
  "language_info": {
   "codemirror_mode": {
    "name": "ipython",
    "version": 3
   },
   "file_extension": ".py",
   "mimetype": "text/x-python",
   "name": "python",
   "nbconvert_exporter": "python",
   "pygments_lexer": "ipython3",
   "version": "3.10.14"
  }
 },
 "nbformat": 4,
 "nbformat_minor": 5
}
