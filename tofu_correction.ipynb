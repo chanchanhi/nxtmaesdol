{
  "nbformat": 4,
  "nbformat_minor": 0,
  "metadata": {
    "colab": {
      "provenance": [],
      "authorship_tag": "ABX9TyNB9DEqstJuX4euwEn8FiDO"
    },
    "kernelspec": {
      "name": "python3",
      "display_name": "Python 3"
    },
    "language_info": {
      "name": "python"
    }
  },
  "cells": [
    {
      "cell_type": "code",
      "source": [
        "import os\n",
        "current_path = os.getcwd()\n",
        "print(current_path)"
      ],
      "metadata": {
        "colab": {
          "base_uri": "https://localhost:8080/"
        },
        "id": "vzUynIiEkKXA",
        "outputId": "ff0067e1-93f1-47e2-c718-b1690ecd50e9"
      },
      "execution_count": 4,
      "outputs": [
        {
          "output_type": "stream",
          "name": "stdout",
          "text": [
            "/content\n"
          ]
        }
      ]
    },
    {
      "cell_type": "code",
      "source": [
        "import os\n",
        "print(os.listdir())  # 현재 디렉토리의 모든 파일 목록 출력"
      ],
      "metadata": {
        "colab": {
          "base_uri": "https://localhost:8080/"
        },
        "id": "jP8vBLQljq7B",
        "outputId": "4078e88f-e979-4033-fffe-1c6331364a92"
      },
      "execution_count": 5,
      "outputs": [
        {
          "output_type": "stream",
          "name": "stdout",
          "text": [
            "['.config', 'defect_predictions_updated.csv', 'tofu_revised.csv', 'sample_data']\n"
          ]
        }
      ]
    },
    {
      "cell_type": "code",
      "source": [
        "import pandas as pd\n",
        "\n",
        "# 분류기에서 나온 결과데이터 표로 생성\n",
        "data = {\n",
        "    'number': ['4362', '115', '2122', '2266', '4596', '2675', '1195', '4358', '3108', '2147', '4580', '2291', '1859', '4353', '2458', '2370', '4859', '1579', '4382', '4320', '4341', '4354', '938', '4563', '2586', '1058', '2202', '2371', '4931', '4579', '2627', '4364', '4342', '4335', '4748', '4357', '3220', '4356', '4556', '4581', '1923', '4339', '2555', '1043', '4987', '4483', '4306', '4597', '4572', '4330', '4899', '4350', '4340', '1196', '4338', '4321', '4875', '1083', '4374', '4571', '3187', '1866', '4383', '4372', '4351', '4375', '4344', '4771', '4378', '3707', '1243', '3940', '4355', '4319', '4366', '4379', '3178', '4363', '4332', '4604', '971', '4327', '1122', '4367', '4360', '1268', '338', '4377', '4346', '4371', '4322', '1403', '1755', '4343', '2499', '4359', '4368', '979', '4345', '4369', '2235', '4447', '4331', '1940', '4370', '4352', '275', '2659', '3132', '2267', '4590', '4491', '4385', '4939', '1804', '4361', '2667', '643', '4376', '3100', '4328', '1811', '4336', '4386', '4365', '1707', '1483', '3501', '3508', '4683', '1867', '2347', '2378', '2642', '4347', '1932', '2610', '1578', '3828', '4439', '4348', '4589', '4582', '2298', '4337', '3900', '2171', '4349', '4578', '4588', '4329', '883', '2027', '3676', '1299', '4612'],\n",
        "    'prediction': ['bubble', 'foreignsub', 'torn', 'bubble', 'bubble', 'dent', 'torn', 'bubble', 'torn', 'torn', 'bubble', 'torn', 'dent', 'bubble', 'bubble', 'torn', 'bubble', 'torn', 'bubble', 'torn', 'bubble', 'bubble', 'bubble', 'torn', 'torn', 'bubble', 'torn', 'torn', 'torn', 'torn', 'torn', 'bubble', 'bubble', 'bubble', 'bubble', 'bubble', 'torn', 'bubble', 'bubble', 'bubble', 'torn', 'dent', 'torn', 'torn', 'torn', 'foreignsub', 'foreignsub', 'bubble', 'bubble', 'torn', 'torn', 'bubble', 'bubble', 'torn', 'bubble', 'torn', 'torn', 'foreignsub', 'bubble', 'torn', 'torn', 'torn', 'bubble', 'bubble', 'dent', 'bubble', 'bubble', 'torn', 'bubble', 'torn', 'bubble', 'foreignsub', 'bubble', 'bubble', 'bubble', 'bubble', 'bubble', 'bubble', 'bubble', 'bubble', 'dent', 'bubble', 'torn', 'bubble', 'bubble', 'bubble', 'torn', 'bubble', 'bubble', 'bubble', 'bubble', 'torn', 'torn', 'bubble', 'torn', 'dent', 'dent', 'bubble', 'bubble', 'bubble', 'torn', 'dent', 'bubble', 'bubble', 'bubble', 'bubble', 'torn', 'dent', 'torn', 'torn', 'bubble', 'foreignsub', 'bubble', 'torn', 'bubble', 'bubble', 'dent', 'torn', 'bubble', 'torn', 'bubble', 'torn', 'bubble', 'bubble', 'bubble', 'torn', 'torn', 'bubble', 'torn', 'torn', 'torn', 'torn', 'torn', 'torn', 'bubble', 'bubble', 'bubble', 'torn', 'torn', 'dent', 'bubble', 'bubble', 'bubble', 'torn', 'bubble', 'torn', 'torn', 'bubble', 'bubble', 'bubble', 'bubble', 'torn', 'torn', 'torn', 'torn', 'bubble']\n",
        "}\n",
        "\n",
        "# DataFrame 생성 및 CSV 파일로 저장\n",
        "df = pd.DataFrame(data)\n",
        "df.to_csv('defect_predictions.csv', index=False)"
      ],
      "metadata": {
        "id": "2DBTr4HVmTkN"
      },
      "execution_count": 14,
      "outputs": []
    },
    {
      "cell_type": "code",
      "source": [
        "#수작업 정정데이터 55개\n",
        "\n",
        "import pandas as pd\n",
        "\n",
        "data = [\n",
        "    ['number', 'prediction'],\n",
        "    [4556, 'bubble'],\n",
        "    [4339, 'bubble'],\n",
        "    [1043, 'torn'],\n",
        "    [4330, 'bubble'],\n",
        "    [4350, 'bubble'],\n",
        "    [1083, 'torn'],\n",
        "    [4374, 'bubble'],\n",
        "    [4372, 'bubble'],\n",
        "    [4351, 'bubble'],\n",
        "    [4375, 'bubble'],\n",
        "    [4344, 'bubble'],\n",
        "    [4771, 'torn'],\n",
        "    [1243, 'torn'],\n",
        "    [4319, 'bubble'],\n",
        "    [3178, 'torn'],\n",
        "    [4327, 'bubble'],\n",
        "    [4367, 'bubble'],\n",
        "    [4346, 'torn'],\n",
        "    [4359, 'bubble'],\n",
        "    [4368, 'bubble'],\n",
        "    [4369, 'bubble'],\n",
        "    [4352, 'bubble'],\n",
        "    [2267, 'torn'],\n",
        "    [4590, 'bubble'],\n",
        "    [4385, 'bubble'],\n",
        "    [4939, 'torn'],\n",
        "    [3100, 'torn'],\n",
        "    [1811, 'torn'],\n",
        "    [3501, 'dent'],\n",
        "    [3508, 'dent'],\n",
        "    [2378, 'torn'],\n",
        "    [1932, 'dent'],\n",
        "    [4348, 'bubble'],\n",
        "    [4582, 'bubble'],\n",
        "    [4329, 'bubble'],\n",
        "    [4612, 'foreignsub'],\n",
        "    [4321, 'bubble'],\n",
        "    [4358, 'bubble'],\n",
        "    [2147, 'torn'],\n",
        "    [4580, 'bubble'],\n",
        "    [4353, 'bubble'],\n",
        "    [1579, 'torn'],\n",
        "    [4382, 'bubble'],\n",
        "    [4320, 'bubble'],\n",
        "    [4341, 'bubble'],\n",
        "    [2586, 'torn'],\n",
        "    [4364, 'bubble'],\n",
        "    [4342, 'bubble'],\n",
        "    [4356, 'bubble'],\n",
        "    [115, 'dent'],\n",
        "    [4572, 'bubble'],\n",
        "    [2347, 'torn'],\n",
        "    [2642, 'torn'],\n",
        "    [4439, 'dent'],\n",
        "    [4578, 'torn']\n",
        "]\n",
        "\n",
        "df = pd.DataFrame(data[1:], columns=data[0])\n",
        "\n",
        "print(\"DataFrame 생성됨:\")\n",
        "print(df.head())\n",
        "print(\"\\n총 행 수:\", len(df))\n",
        "\n",
        "# CSV 파일로 저장\n",
        "df.to_csv('/content/revised_tofu_final.csv', index=False)"
      ],
      "metadata": {
        "colab": {
          "base_uri": "https://localhost:8080/"
        },
        "id": "ijzsBy0fy923",
        "outputId": "531e61e9-54bb-4a24-e943-985541d47d7a"
      },
      "execution_count": 20,
      "outputs": [
        {
          "output_type": "stream",
          "name": "stdout",
          "text": [
            "DataFrame 생성됨:\n",
            "   number prediction\n",
            "0    4556     bubble\n",
            "1    4339     bubble\n",
            "2    1043       torn\n",
            "3    4330     bubble\n",
            "4    4350     bubble\n",
            "\n",
            "총 행 수: 55\n"
          ]
        }
      ]
    },
    {
      "cell_type": "code",
      "source": [
        "import pandas as pd\n",
        "\n",
        "original_data = pd.read_csv('defect_predictions.csv')\n",
        "new_predictions = pd.read_csv('revised_tofu_final.csv', header=None, names=['number', 'prediction'])\n",
        "\n",
        "# number를 문자열로 통일\n",
        "original_data['number'] = original_data['number'].astype(str)\n",
        "new_predictions['number'] = new_predictions['number'].astype(str)\n",
        "\n",
        "# 매칭하여 업데이트\n",
        "for index, row in new_predictions.iterrows():\n",
        "    original_data.loc[original_data['number'] == row['number'], 'prediction'] = row['prediction']\n",
        "\n",
        "original_data.to_csv('defect_predictions_final.csv', index=False)"
      ],
      "metadata": {
        "id": "rdnWpjUNkhpS"
      },
      "execution_count": 22,
      "outputs": []
    },
    {
      "cell_type": "code",
      "source": [],
      "metadata": {
        "id": "DTOsrtCatt14"
      },
      "execution_count": null,
      "outputs": []
    }
  ]
}
