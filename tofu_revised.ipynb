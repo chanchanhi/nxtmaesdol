{
  "nbformat": 4,
  "nbformat_minor": 0,
  "metadata": {
    "colab": {
      "provenance": [],
      "authorship_tag": "ABX9TyOHTZPsG65/2NT3B3CUgGhq"
    },
    "kernelspec": {
      "name": "python3",
      "display_name": "Python 3"
    },
    "language_info": {
      "name": "python"
    }
  },
  "cells": [
    {
      "cell_type": "code",
      "source": [
        "import os\n",
        "current_path = os.getcwd()\n",
        "print(current_path)"
      ],
      "metadata": {
        "colab": {
          "base_uri": "https://localhost:8080/"
        },
        "id": "vzUynIiEkKXA",
        "outputId": "ff0067e1-93f1-47e2-c718-b1690ecd50e9"
      },
      "execution_count": 4,
      "outputs": [
        {
          "output_type": "stream",
          "name": "stdout",
          "text": [
            "/content\n"
          ]
        }
      ]
    },
    {
      "cell_type": "code",
      "source": [
        "import os\n",
        "print(os.listdir())  # 현재 디렉토리의 모든 파일 목록 출력"
      ],
      "metadata": {
        "colab": {
          "base_uri": "https://localhost:8080/"
        },
        "id": "jP8vBLQljq7B",
        "outputId": "4078e88f-e979-4033-fffe-1c6331364a92"
      },
      "execution_count": 5,
      "outputs": [
        {
          "output_type": "stream",
          "name": "stdout",
          "text": [
            "['.config', 'defect_predictions_updated.csv', 'tofu_revised.csv', 'sample_data']\n"
          ]
        }
      ]
    },
    {
      "cell_type": "code",
      "source": [
        "import pandas as pd\n",
        "\n",
        "original_data = pd.read_csv('defect_predictions_updated.csv')\n",
        "new_predictions = pd.read_csv('tofu_revised.csv', header=None, names=['number', 'prediction'])\n",
        "\n",
        "# number를 문자열로 통일\n",
        "original_data['number'] = original_data['number'].astype(str)\n",
        "new_predictions['number'] = new_predictions['number'].astype(str)\n",
        "\n",
        "# 매칭하여 업데이트\n",
        "for index, row in new_predictions.iterrows():\n",
        "    original_data.loc[original_data['number'] == row['number'], 'prediction'] = row['prediction']\n",
        "\n",
        "original_data.to_csv('defect_predictions_updated.csv', index=False)"
      ],
      "metadata": {
        "id": "rdnWpjUNkhpS"
      },
      "execution_count": 10,
      "outputs": []
    },
    {
      "cell_type": "code",
      "source": [],
      "metadata": {
        "id": "2DBTr4HVmTkN"
      },
      "execution_count": null,
      "outputs": []
    }
  ]
}