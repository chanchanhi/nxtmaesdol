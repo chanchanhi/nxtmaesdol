{
 "cells": [
  {
   "cell_type": "code",
   "execution_count": 4,
   "id": "3d2f695f",
   "metadata": {},
   "outputs": [
    {
     "name": "stdout",
     "output_type": "stream",
     "text": [
      "'dent' 클래스가 포함된 Ground Truth 라벨 파일이 없습니다.\n"
     ]
    }
   ],
   "source": [
    "import os\n",
    "\n",
    "# Ground Truth 라벨 파일 디렉토리\n",
    "ground_truth_dir = \"/home/ec2-user/SageMaker/data/yolov8detections/test/labels\"\n",
    "\n",
    "# dent 클래스 ID\n",
    "dent_class_id = \"1\"\n",
    "\n",
    "# dent 클래스가 포함된 파일을 저장할 리스트\n",
    "files_with_dent = []\n",
    "\n",
    "# 라벨 파일을 탐색\n",
    "for file_name in os.listdir(ground_truth_dir):\n",
    "    file_path = os.path.join(ground_truth_dir, file_name)\n",
    "    with open(file_path, \"r\") as f:\n",
    "        # 각 파일의 라벨 데이터를 읽고 dent 클래스 확인\n",
    "        lines = f.readlines()\n",
    "        for line in lines:\n",
    "            if line.startswith(dent_class_id):  # dent 클래스 확인\n",
    "                files_with_dent.append(file_name)\n",
    "                break\n",
    "\n",
    "# 결과 출력\n",
    "if files_with_dent:\n",
    "    print(f\"'dent' 클래스가 포함된 파일: {files_with_dent}\")\n",
    "else:\n",
    "    print(\"'dent' 클래스가 포함된 Ground Truth 라벨 파일이 없습니다.\")\n",
    "\n"
   ]
  },
  {
   "cell_type": "code",
   "execution_count": null,
   "id": "3fdd0e40",
   "metadata": {},
   "outputs": [],
   "source": []
  }
 ],
 "metadata": {
  "kernelspec": {
   "display_name": "conda_pytorch_p310",
   "language": "python",
   "name": "conda_pytorch_p310"
  },
  "language_info": {
   "codemirror_mode": {
    "name": "ipython",
    "version": 3
   },
   "file_extension": ".py",
   "mimetype": "text/x-python",
   "name": "python",
   "nbconvert_exporter": "python",
   "pygments_lexer": "ipython3",
   "version": "3.10.14"
  }
 },
 "nbformat": 4,
 "nbformat_minor": 5
}
